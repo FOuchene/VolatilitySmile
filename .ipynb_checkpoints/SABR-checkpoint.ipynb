{
 "cells": [
  {
   "cell_type": "code",
   "execution_count": 1,
   "metadata": {},
   "outputs": [],
   "source": [
    "import QuantLib as ql\n",
    "import matplotlib.pyplot as plt\n",
    "import numpy as np\n",
    "from scipy.optimize import minimize\n",
    "import sys \n",
    "formerPath = sys.path\n",
    "sys.path.append('./Code/')\n",
    "import pandas as pd\n",
    "import datetime\n",
    "import matplotlib.pyplot as plt\n",
    "import sklearn as skl\n",
    "import seaborn as sns\n",
    "import importlib\n",
    "import loadData\n",
    "from datetime import timedelta"
   ]
  },
  {
   "cell_type": "code",
   "execution_count": 113,
   "metadata": {},
   "outputs": [],
   "source": [
    "strikes = [105, 106, 107, 108, 109, 110, 111, 112]\n",
    "fwd = 113\n",
    "expiryTime = 17/365\n",
    "marketVols = [0.4164, 0.408, 0.3996, 0.3913, 0.3832, 0.3754, 0.3678, 0.3604]"
   ]
  },
  {
   "cell_type": "code",
   "execution_count": 114,
   "metadata": {},
   "outputs": [],
   "source": [
    "params = [0.1] * 4\n",
    "def f(params):\n",
    "    vols = np.array([\n",
    "        ql.sabrVolatility(strike, fwd, expiryTime, *params)\n",
    "        for strike in strikes\n",
    "    ])\n",
    "    return ((vols - np.array(marketVols))**2 ).mean() **.5\n",
    "\n",
    "cons=(\n",
    "    {'type': 'ineq', 'fun': lambda x:  0.99 - x[1]},\n",
    "    {'type': 'ineq', 'fun': lambda x: x[1]},    \n",
    "    {'type': 'ineq', 'fun': lambda x: x[3]}\n",
    ")\n",
    "bnds = ( (0.001,None) , (0,1) , (0.001,None), (-0.999,0.999) )\n",
    "result = minimize(f, params, bounds=bnds,method='SLSQP')\n",
    "new_params = result['x']"
   ]
  },
  {
   "cell_type": "code",
   "execution_count": 115,
   "metadata": {},
   "outputs": [],
   "source": [
    "newVols = [ql.sabrVolatility(strike, fwd, expiryTime, *new_params) for strike in strikes]"
   ]
  },
  {
   "cell_type": "code",
   "execution_count": 116,
   "metadata": {},
   "outputs": [
    {
     "data": {
      "image/png": "[encoded data removed]",
      "text/plain": [
       "<Figure size 432x288 with 1 Axes>"
      ]
     },
     "metadata": {
      "needs_background": "light"
     },
     "output_type": "display_data"
    }
   ],
   "source": [
    "plt.plot(strikes, marketVols, marker='o', label=\"market\")\n",
    "plt.plot(strikes, newVols, marker='o', label=\"SABR\")\n",
    "plt.legend();"
   ]
  },
  {
   "cell_type": "code",
   "execution_count": null,
   "metadata": {},
   "outputs": [],
   "source": []
  }
 ],
 "metadata": {
  "kernelspec": {
   "display_name": "Python 3",
   "language": "python",
   "name": "python3"
  },
  "language_info": {
   "codemirror_mode": {
    "name": "ipython",
    "version": 3
   },
   "file_extension": ".py",
   "mimetype": "text/x-python",
   "name": "python",
   "nbconvert_exporter": "python",
   "pygments_lexer": "ipython3",
   "version": "3.7.6"
  }
 },
 "nbformat": 4,
 "nbformat_minor": 4
}
